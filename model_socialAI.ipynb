{
  "cells": [
    {
      "cell_type": "code",
      "execution_count": null,
      "metadata": {
        "colab": {
          "base_uri": "https://localhost:8080/"
        },
        "id": "k7XTpVPkfqDL",
        "outputId": "44e155d0-41da-40c4-d906-f49c94aa7745"
      },
      "outputs": [
        {
          "output_type": "stream",
          "name": "stdout",
          "text": [
            "Collecting pyarrow==12.0.1\n",
            "  Downloading pyarrow-12.0.1-cp310-cp310-manylinux_2_17_x86_64.manylinux2014_x86_64.whl.metadata (3.0 kB)\n",
            "Requirement already satisfied: numpy>=1.16.6 in /usr/local/lib/python3.10/dist-packages (from pyarrow==12.0.1) (1.26.4)\n",
            "Downloading pyarrow-12.0.1-cp310-cp310-manylinux_2_17_x86_64.manylinux2014_x86_64.whl (38.9 MB)\n",
            "\u001b[2K   \u001b[90m━━━━━━━━━━━━━━━━━━━━━━━━━━━━━━━━━━━━━━━━\u001b[0m \u001b[32m38.9/38.9 MB\u001b[0m \u001b[31m17.1 MB/s\u001b[0m eta \u001b[36m0:00:00\u001b[0m\n",
            "\u001b[?25hInstalling collected packages: pyarrow\n",
            "  Attempting uninstall: pyarrow\n",
            "    Found existing installation: pyarrow 16.1.0\n",
            "    Uninstalling pyarrow-16.1.0:\n",
            "      Successfully uninstalled pyarrow-16.1.0\n",
            "\u001b[31mERROR: pip's dependency resolver does not currently take into account all the packages that are installed. This behaviour is the source of the following dependency conflicts.\n",
            "cudf-cu12 24.6.1 requires pyarrow<16.2.0a0,>=16.1.0, but you have pyarrow 12.0.1 which is incompatible.\u001b[0m\u001b[31m\n",
            "\u001b[0mSuccessfully installed pyarrow-12.0.1\n"
          ]
        }
      ],
      "source": [
        "!pip install pyarrow==12.0.1\n"
      ]
    },
    {
      "cell_type": "code",
      "execution_count": null,
      "metadata": {
        "id": "Ourmw4z9f1Rd",
        "colab": {
          "base_uri": "https://localhost:8080/"
        },
        "outputId": "46dd21ce-bc9e-44bf-f786-60e707fade4f"
      },
      "outputs": [
        {
          "output_type": "stream",
          "name": "stdout",
          "text": [
            "Requirement already satisfied: tqdm in /usr/local/lib/python3.10/dist-packages (4.66.5)\n",
            "Requirement already satisfied: pandas in /usr/local/lib/python3.10/dist-packages (2.2.2)\n",
            "Requirement already satisfied: matplotlib in /usr/local/lib/python3.10/dist-packages (3.7.1)\n",
            "Collecting langchain\n",
            "  Downloading langchain-0.3.3-py3-none-any.whl.metadata (7.1 kB)\n",
            "Collecting langchain-community\n",
            "  Downloading langchain_community-0.3.2-py3-none-any.whl.metadata (2.8 kB)\n",
            "Requirement already satisfied: torch in /usr/local/lib/python3.10/dist-packages (2.4.1+cu121)\n",
            "Collecting pyngrok\n",
            "  Downloading pyngrok-7.2.0-py3-none-any.whl.metadata (7.4 kB)\n",
            "Requirement already satisfied: numpy>=1.22.4 in /usr/local/lib/python3.10/dist-packages (from pandas) (1.26.4)\n",
            "Requirement already satisfied: python-dateutil>=2.8.2 in /usr/local/lib/python3.10/dist-packages (from pandas) (2.8.2)\n",
            "Requirement already satisfied: pytz>=2020.1 in /usr/local/lib/python3.10/dist-packages (from pandas) (2024.2)\n",
            "Requirement already satisfied: tzdata>=2022.7 in /usr/local/lib/python3.10/dist-packages (from pandas) (2024.2)\n",
            "Requirement already satisfied: contourpy>=1.0.1 in /usr/local/lib/python3.10/dist-packages (from matplotlib) (1.3.0)\n",
            "Requirement already satisfied: cycler>=0.10 in /usr/local/lib/python3.10/dist-packages (from matplotlib) (0.12.1)\n",
            "Requirement already satisfied: fonttools>=4.22.0 in /usr/local/lib/python3.10/dist-packages (from matplotlib) (4.54.1)\n",
            "Requirement already satisfied: kiwisolver>=1.0.1 in /usr/local/lib/python3.10/dist-packages (from matplotlib) (1.4.7)\n",
            "Requirement already satisfied: packaging>=20.0 in /usr/local/lib/python3.10/dist-packages (from matplotlib) (24.1)\n",
            "Requirement already satisfied: pillow>=6.2.0 in /usr/local/lib/python3.10/dist-packages (from matplotlib) (10.4.0)\n",
            "Requirement already satisfied: pyparsing>=2.3.1 in /usr/local/lib/python3.10/dist-packages (from matplotlib) (3.1.4)\n",
            "Requirement already satisfied: PyYAML>=5.3 in /usr/local/lib/python3.10/dist-packages (from langchain) (6.0.2)\n",
            "Requirement already satisfied: SQLAlchemy<3,>=1.4 in /usr/local/lib/python3.10/dist-packages (from langchain) (2.0.35)\n",
            "Requirement already satisfied: aiohttp<4.0.0,>=3.8.3 in /usr/local/lib/python3.10/dist-packages (from langchain) (3.10.10)\n",
            "Requirement already satisfied: async-timeout<5.0.0,>=4.0.0 in /usr/local/lib/python3.10/dist-packages (from langchain) (4.0.3)\n",
            "Collecting langchain-core<0.4.0,>=0.3.10 (from langchain)\n",
            "  Downloading langchain_core-0.3.11-py3-none-any.whl.metadata (6.3 kB)\n",
            "Collecting langchain-text-splitters<0.4.0,>=0.3.0 (from langchain)\n",
            "  Downloading langchain_text_splitters-0.3.0-py3-none-any.whl.metadata (2.3 kB)\n",
            "Collecting langsmith<0.2.0,>=0.1.17 (from langchain)\n",
            "  Downloading langsmith-0.1.135-py3-none-any.whl.metadata (13 kB)\n",
            "Requirement already satisfied: pydantic<3.0.0,>=2.7.4 in /usr/local/lib/python3.10/dist-packages (from langchain) (2.9.2)\n",
            "Requirement already satisfied: requests<3,>=2 in /usr/local/lib/python3.10/dist-packages (from langchain) (2.32.3)\n",
            "Collecting tenacity!=8.4.0,<9.0.0,>=8.1.0 (from langchain)\n",
            "  Downloading tenacity-8.5.0-py3-none-any.whl.metadata (1.2 kB)\n",
            "Collecting dataclasses-json<0.7,>=0.5.7 (from langchain-community)\n",
            "  Downloading dataclasses_json-0.6.7-py3-none-any.whl.metadata (25 kB)\n",
            "Collecting pydantic-settings<3.0.0,>=2.4.0 (from langchain-community)\n",
            "  Downloading pydantic_settings-2.5.2-py3-none-any.whl.metadata (3.5 kB)\n",
            "Requirement already satisfied: filelock in /usr/local/lib/python3.10/dist-packages (from torch) (3.16.1)\n",
            "Requirement already satisfied: typing-extensions>=4.8.0 in /usr/local/lib/python3.10/dist-packages (from torch) (4.12.2)\n",
            "Requirement already satisfied: sympy in /usr/local/lib/python3.10/dist-packages (from torch) (1.13.3)\n",
            "Requirement already satisfied: networkx in /usr/local/lib/python3.10/dist-packages (from torch) (3.4)\n",
            "Requirement already satisfied: jinja2 in /usr/local/lib/python3.10/dist-packages (from torch) (3.1.4)\n",
            "Requirement already satisfied: fsspec in /usr/local/lib/python3.10/dist-packages (from torch) (2024.6.1)\n",
            "Requirement already satisfied: aiohappyeyeballs>=2.3.0 in /usr/local/lib/python3.10/dist-packages (from aiohttp<4.0.0,>=3.8.3->langchain) (2.4.3)\n",
            "Requirement already satisfied: aiosignal>=1.1.2 in /usr/local/lib/python3.10/dist-packages (from aiohttp<4.0.0,>=3.8.3->langchain) (1.3.1)\n",
            "Requirement already satisfied: attrs>=17.3.0 in /usr/local/lib/python3.10/dist-packages (from aiohttp<4.0.0,>=3.8.3->langchain) (24.2.0)\n",
            "Requirement already satisfied: frozenlist>=1.1.1 in /usr/local/lib/python3.10/dist-packages (from aiohttp<4.0.0,>=3.8.3->langchain) (1.4.1)\n",
            "Requirement already satisfied: multidict<7.0,>=4.5 in /usr/local/lib/python3.10/dist-packages (from aiohttp<4.0.0,>=3.8.3->langchain) (6.1.0)\n",
            "Requirement already satisfied: yarl<2.0,>=1.12.0 in /usr/local/lib/python3.10/dist-packages (from aiohttp<4.0.0,>=3.8.3->langchain) (1.14.0)\n",
            "Collecting marshmallow<4.0.0,>=3.18.0 (from dataclasses-json<0.7,>=0.5.7->langchain-community)\n",
            "  Downloading marshmallow-3.22.0-py3-none-any.whl.metadata (7.2 kB)\n",
            "Collecting typing-inspect<1,>=0.4.0 (from dataclasses-json<0.7,>=0.5.7->langchain-community)\n",
            "  Downloading typing_inspect-0.9.0-py3-none-any.whl.metadata (1.5 kB)\n",
            "Collecting jsonpatch<2.0,>=1.33 (from langchain-core<0.4.0,>=0.3.10->langchain)\n",
            "  Downloading jsonpatch-1.33-py2.py3-none-any.whl.metadata (3.0 kB)\n",
            "Collecting httpx<1,>=0.23.0 (from langsmith<0.2.0,>=0.1.17->langchain)\n",
            "  Downloading httpx-0.27.2-py3-none-any.whl.metadata (7.1 kB)\n",
            "Collecting orjson<4.0.0,>=3.9.14 (from langsmith<0.2.0,>=0.1.17->langchain)\n",
            "  Downloading orjson-3.10.7-cp310-cp310-manylinux_2_17_x86_64.manylinux2014_x86_64.whl.metadata (50 kB)\n",
            "\u001b[2K     \u001b[90m━━━━━━━━━━━━━━━━━━━━━━━━━━━━━━━━━━━━━━━━\u001b[0m \u001b[32m50.4/50.4 kB\u001b[0m \u001b[31m1.7 MB/s\u001b[0m eta \u001b[36m0:00:00\u001b[0m\n",
            "\u001b[?25hCollecting requests-toolbelt<2.0.0,>=1.0.0 (from langsmith<0.2.0,>=0.1.17->langchain)\n",
            "  Downloading requests_toolbelt-1.0.0-py2.py3-none-any.whl.metadata (14 kB)\n",
            "Requirement already satisfied: annotated-types>=0.6.0 in /usr/local/lib/python3.10/dist-packages (from pydantic<3.0.0,>=2.7.4->langchain) (0.7.0)\n",
            "Requirement already satisfied: pydantic-core==2.23.4 in /usr/local/lib/python3.10/dist-packages (from pydantic<3.0.0,>=2.7.4->langchain) (2.23.4)\n",
            "Collecting python-dotenv>=0.21.0 (from pydantic-settings<3.0.0,>=2.4.0->langchain-community)\n",
            "  Downloading python_dotenv-1.0.1-py3-none-any.whl.metadata (23 kB)\n",
            "Requirement already satisfied: six>=1.5 in /usr/local/lib/python3.10/dist-packages (from python-dateutil>=2.8.2->pandas) (1.16.0)\n",
            "Requirement already satisfied: charset-normalizer<4,>=2 in /usr/local/lib/python3.10/dist-packages (from requests<3,>=2->langchain) (3.4.0)\n",
            "Requirement already satisfied: idna<4,>=2.5 in /usr/local/lib/python3.10/dist-packages (from requests<3,>=2->langchain) (3.10)\n",
            "Requirement already satisfied: urllib3<3,>=1.21.1 in /usr/local/lib/python3.10/dist-packages (from requests<3,>=2->langchain) (2.2.3)\n",
            "Requirement already satisfied: certifi>=2017.4.17 in /usr/local/lib/python3.10/dist-packages (from requests<3,>=2->langchain) (2024.8.30)\n",
            "Requirement already satisfied: greenlet!=0.4.17 in /usr/local/lib/python3.10/dist-packages (from SQLAlchemy<3,>=1.4->langchain) (3.1.1)\n",
            "Requirement already satisfied: MarkupSafe>=2.0 in /usr/local/lib/python3.10/dist-packages (from jinja2->torch) (3.0.1)\n",
            "Requirement already satisfied: mpmath<1.4,>=1.1.0 in /usr/local/lib/python3.10/dist-packages (from sympy->torch) (1.3.0)\n",
            "Requirement already satisfied: anyio in /usr/local/lib/python3.10/dist-packages (from httpx<1,>=0.23.0->langsmith<0.2.0,>=0.1.17->langchain) (3.7.1)\n",
            "Collecting httpcore==1.* (from httpx<1,>=0.23.0->langsmith<0.2.0,>=0.1.17->langchain)\n",
            "  Downloading httpcore-1.0.6-py3-none-any.whl.metadata (21 kB)\n",
            "Requirement already satisfied: sniffio in /usr/local/lib/python3.10/dist-packages (from httpx<1,>=0.23.0->langsmith<0.2.0,>=0.1.17->langchain) (1.3.1)\n",
            "Collecting h11<0.15,>=0.13 (from httpcore==1.*->httpx<1,>=0.23.0->langsmith<0.2.0,>=0.1.17->langchain)\n",
            "  Downloading h11-0.14.0-py3-none-any.whl.metadata (8.2 kB)\n",
            "Collecting jsonpointer>=1.9 (from jsonpatch<2.0,>=1.33->langchain-core<0.4.0,>=0.3.10->langchain)\n",
            "  Downloading jsonpointer-3.0.0-py2.py3-none-any.whl.metadata (2.3 kB)\n",
            "Collecting mypy-extensions>=0.3.0 (from typing-inspect<1,>=0.4.0->dataclasses-json<0.7,>=0.5.7->langchain-community)\n",
            "  Downloading mypy_extensions-1.0.0-py3-none-any.whl.metadata (1.1 kB)\n",
            "Requirement already satisfied: propcache>=0.2.0 in /usr/local/lib/python3.10/dist-packages (from yarl<2.0,>=1.12.0->aiohttp<4.0.0,>=3.8.3->langchain) (0.2.0)\n",
            "Requirement already satisfied: exceptiongroup in /usr/local/lib/python3.10/dist-packages (from anyio->httpx<1,>=0.23.0->langsmith<0.2.0,>=0.1.17->langchain) (1.2.2)\n",
            "Downloading langchain-0.3.3-py3-none-any.whl (1.0 MB)\n",
            "\u001b[2K   \u001b[90m━━━━━━━━━━━━━━━━━━━━━━━━━━━━━━━━━━━━━━━━\u001b[0m \u001b[32m1.0/1.0 MB\u001b[0m \u001b[31m25.9 MB/s\u001b[0m eta \u001b[36m0:00:00\u001b[0m\n",
            "\u001b[?25hDownloading langchain_community-0.3.2-py3-none-any.whl (2.4 MB)\n",
            "\u001b[2K   \u001b[90m━━━━━━━━━━━━━━━━━━━━━━━━━━━━━━━━━━━━━━━━\u001b[0m \u001b[32m2.4/2.4 MB\u001b[0m \u001b[31m62.4 MB/s\u001b[0m eta \u001b[36m0:00:00\u001b[0m\n",
            "\u001b[?25hDownloading pyngrok-7.2.0-py3-none-any.whl (22 kB)\n",
            "Downloading dataclasses_json-0.6.7-py3-none-any.whl (28 kB)\n",
            "Downloading langchain_core-0.3.11-py3-none-any.whl (407 kB)\n",
            "\u001b[2K   \u001b[90m━━━━━━━━━━━━━━━━━━━━━━━━━━━━━━━━━━━━━━━━\u001b[0m \u001b[32m407.2/407.2 kB\u001b[0m \u001b[31m26.0 MB/s\u001b[0m eta \u001b[36m0:00:00\u001b[0m\n",
            "\u001b[?25hDownloading langchain_text_splitters-0.3.0-py3-none-any.whl (25 kB)\n",
            "Downloading langsmith-0.1.135-py3-none-any.whl (295 kB)\n",
            "\u001b[2K   \u001b[90m━━━━━━━━━━━━━━━━━━━━━━━━━━━━━━━━━━━━━━━━\u001b[0m \u001b[32m295.8/295.8 kB\u001b[0m \u001b[31m21.2 MB/s\u001b[0m eta \u001b[36m0:00:00\u001b[0m\n",
            "\u001b[?25hDownloading pydantic_settings-2.5.2-py3-none-any.whl (26 kB)\n",
            "Downloading tenacity-8.5.0-py3-none-any.whl (28 kB)\n",
            "Downloading httpx-0.27.2-py3-none-any.whl (76 kB)\n",
            "\u001b[2K   \u001b[90m━━━━━━━━━━━━━━━━━━━━━━━━━━━━━━━━━━━━━━━━\u001b[0m \u001b[32m76.4/76.4 kB\u001b[0m \u001b[31m5.8 MB/s\u001b[0m eta \u001b[36m0:00:00\u001b[0m\n",
            "\u001b[?25hDownloading httpcore-1.0.6-py3-none-any.whl (78 kB)\n",
            "\u001b[2K   \u001b[90m━━━━━━━━━━━━━━━━━━━━━━━━━━━━━━━━━━━━━━━━\u001b[0m \u001b[32m78.0/78.0 kB\u001b[0m \u001b[31m7.0 MB/s\u001b[0m eta \u001b[36m0:00:00\u001b[0m\n",
            "\u001b[?25hDownloading jsonpatch-1.33-py2.py3-none-any.whl (12 kB)\n",
            "Downloading marshmallow-3.22.0-py3-none-any.whl (49 kB)\n",
            "\u001b[2K   \u001b[90m━━━━━━━━━━━━━━━━━━━━━━━━━━━━━━━━━━━━━━━━\u001b[0m \u001b[32m49.3/49.3 kB\u001b[0m \u001b[31m3.8 MB/s\u001b[0m eta \u001b[36m0:00:00\u001b[0m\n",
            "\u001b[?25hDownloading orjson-3.10.7-cp310-cp310-manylinux_2_17_x86_64.manylinux2014_x86_64.whl (141 kB)\n",
            "\u001b[2K   \u001b[90m━━━━━━━━━━━━━━━━━━━━━━━━━━━━━━━━━━━━━━━━\u001b[0m \u001b[32m141.9/141.9 kB\u001b[0m \u001b[31m11.2 MB/s\u001b[0m eta \u001b[36m0:00:00\u001b[0m\n",
            "\u001b[?25hDownloading python_dotenv-1.0.1-py3-none-any.whl (19 kB)\n",
            "Downloading requests_toolbelt-1.0.0-py2.py3-none-any.whl (54 kB)\n",
            "\u001b[2K   \u001b[90m━━━━━━━━━━━━━━━━━━━━━━━━━━━━━━━━━━━━━━━━\u001b[0m \u001b[32m54.5/54.5 kB\u001b[0m \u001b[31m4.8 MB/s\u001b[0m eta \u001b[36m0:00:00\u001b[0m\n",
            "\u001b[?25hDownloading typing_inspect-0.9.0-py3-none-any.whl (8.8 kB)\n",
            "Downloading jsonpointer-3.0.0-py2.py3-none-any.whl (7.6 kB)\n",
            "Downloading mypy_extensions-1.0.0-py3-none-any.whl (4.7 kB)\n",
            "Downloading h11-0.14.0-py3-none-any.whl (58 kB)\n",
            "\u001b[2K   \u001b[90m━━━━━━━━━━━━━━━━━━━━━━━━━━━━━━━━━━━━━━━━\u001b[0m \u001b[32m58.3/58.3 kB\u001b[0m \u001b[31m2.7 MB/s\u001b[0m eta \u001b[36m0:00:00\u001b[0m\n",
            "\u001b[?25hInstalling collected packages: tenacity, python-dotenv, pyngrok, orjson, mypy-extensions, marshmallow, jsonpointer, h11, typing-inspect, requests-toolbelt, jsonpatch, httpcore, pydantic-settings, httpx, dataclasses-json, langsmith, langchain-core, langchain-text-splitters, langchain, langchain-community\n",
            "  Attempting uninstall: tenacity\n",
            "    Found existing installation: tenacity 9.0.0\n",
            "    Uninstalling tenacity-9.0.0:\n",
            "      Successfully uninstalled tenacity-9.0.0\n",
            "Successfully installed dataclasses-json-0.6.7 h11-0.14.0 httpcore-1.0.6 httpx-0.27.2 jsonpatch-1.33 jsonpointer-3.0.0 langchain-0.3.3 langchain-community-0.3.2 langchain-core-0.3.11 langchain-text-splitters-0.3.0 langsmith-0.1.135 marshmallow-3.22.0 mypy-extensions-1.0.0 orjson-3.10.7 pydantic-settings-2.5.2 pyngrok-7.2.0 python-dotenv-1.0.1 requests-toolbelt-1.0.0 tenacity-8.5.0 typing-inspect-0.9.0\n",
            "Mounted at /content/drive\n",
            "Libraries imported successfully!\n"
          ]
        }
      ],
      "source": [
        "# Step 1: Install Required Libraries\n",
        "!pip install tqdm pandas matplotlib langchain langchain-community torch pyngrok\n",
        "\n",
        "# Step 2: Mount Google Drive\n",
        "from google.colab import drive\n",
        "drive.mount('/content/drive')\n",
        "\n",
        "# Step 3: Import Libraries\n",
        "import pandas as pd\n",
        "from tqdm.notebook import tqdm\n",
        "# from datasets import Dataset\n",
        "import matplotlib.pyplot as plt\n",
        "from langchain.docstore.document import Document as LangchainDocument\n",
        "from langchain.text_splitter import RecursiveCharacterTextSplitter\n",
        "# from sentence_transformers import SentenceTransformer\n",
        "from transformers import AutoTokenizer, AutoModelForCausalLM, pipeline\n",
        "from langchain.vectorstores import FAISS\n",
        "from langchain_community.embeddings import HuggingFaceEmbeddings\n",
        "from langchain_community.vectorstores.utils import DistanceStrategy\n",
        "import torch\n",
        "\n",
        "# Example usage of imported libraries\n",
        "# This is just a placeholder to show that the imports are working fine\n",
        "print(\"Libraries imported successfully!\")\n"
      ]
    },
    {
      "cell_type": "code",
      "execution_count": null,
      "metadata": {
        "id": "k3MBgaB_iToA",
        "colab": {
          "base_uri": "https://localhost:8080/"
        },
        "outputId": "288bdbf8-55c4-4613-e742-15d7a6388209"
      },
      "outputs": [
        {
          "output_type": "stream",
          "name": "stdout",
          "text": [
            "Collecting PyPDF2\n",
            "  Downloading pypdf2-3.0.1-py3-none-any.whl.metadata (6.8 kB)\n",
            "Collecting python-docx\n",
            "  Downloading python_docx-1.1.2-py3-none-any.whl.metadata (2.0 kB)\n",
            "Requirement already satisfied: pandas in /usr/local/lib/python3.10/dist-packages (2.2.2)\n",
            "Requirement already satisfied: lxml>=3.1.0 in /usr/local/lib/python3.10/dist-packages (from python-docx) (4.9.4)\n",
            "Requirement already satisfied: typing-extensions>=4.9.0 in /usr/local/lib/python3.10/dist-packages (from python-docx) (4.12.2)\n",
            "Requirement already satisfied: numpy>=1.22.4 in /usr/local/lib/python3.10/dist-packages (from pandas) (1.26.4)\n",
            "Requirement already satisfied: python-dateutil>=2.8.2 in /usr/local/lib/python3.10/dist-packages (from pandas) (2.8.2)\n",
            "Requirement already satisfied: pytz>=2020.1 in /usr/local/lib/python3.10/dist-packages (from pandas) (2024.2)\n",
            "Requirement already satisfied: tzdata>=2022.7 in /usr/local/lib/python3.10/dist-packages (from pandas) (2024.2)\n",
            "Requirement already satisfied: six>=1.5 in /usr/local/lib/python3.10/dist-packages (from python-dateutil>=2.8.2->pandas) (1.16.0)\n",
            "Downloading pypdf2-3.0.1-py3-none-any.whl (232 kB)\n",
            "\u001b[2K   \u001b[90m━━━━━━━━━━━━━━━━━━━━━━━━━━━━━━━━━━━━━━━━\u001b[0m \u001b[32m232.6/232.6 kB\u001b[0m \u001b[31m6.0 MB/s\u001b[0m eta \u001b[36m0:00:00\u001b[0m\n",
            "\u001b[?25hDownloading python_docx-1.1.2-py3-none-any.whl (244 kB)\n",
            "\u001b[2K   \u001b[90m━━━━━━━━━━━━━━━━━━━━━━━━━━━━━━━━━━━━━━━━\u001b[0m \u001b[32m244.3/244.3 kB\u001b[0m \u001b[31m23.8 MB/s\u001b[0m eta \u001b[36m0:00:00\u001b[0m\n",
            "\u001b[?25hInstalling collected packages: python-docx, PyPDF2\n",
            "Successfully installed PyPDF2-3.0.1 python-docx-1.1.2\n"
          ]
        }
      ],
      "source": [
        "pip install PyPDF2 python-docx pandas\n"
      ]
    },
    {
      "cell_type": "code",
      "execution_count": null,
      "metadata": {
        "id": "KIvT1ZLJg6Ep"
      },
      "outputs": [],
      "source": []
    },
    {
      "cell_type": "code",
      "source": [
        "# # Importing necessary libraries\n",
        "# import os\n",
        "# import pandas as pd\n",
        "# from PyPDF2 import PdfReader\n",
        "# from docx import Document\n",
        "# from langchain.text_splitter import RecursiveCharacterTextSplitter\n",
        "# from transformers import AutoTokenizer\n",
        "# from typing import Optional, List\n",
        "\n",
        "# # Function to read PDF files\n",
        "# def read_pdf(file_path):\n",
        "#     reader = PdfReader(file_path)\n",
        "#     text = \"\"\n",
        "#     for page in reader.pages:\n",
        "#         text += page.extract_text()\n",
        "#     return text\n",
        "\n",
        "# # Function to read DOCX files\n",
        "# def read_docx(file_path):\n",
        "#     doc = Document(file_path)\n",
        "#     text = \"\\n\".join([para.text for para in doc.paragraphs])\n",
        "#     return text\n",
        "\n",
        "# # Function to read CSV files\n",
        "# # def read_csv(file_path):\n",
        "# #     df = pd.read_csv(file_path)\n",
        "# #     # Convert CSV rows into structured text format\n",
        "# #     text = \"\\n\".join([\", \".join([f\"{col}: {row[col]}\" for col in df.columns]) for _, row in df.iterrows()])\n",
        "# #     return text\n",
        "\n",
        "# # Function to read XLSX files\n",
        "# # def read_xlsx(file_path):\n",
        "# #     df = pd.read_excel(file_path)\n",
        "# #     # Convert Excel rows into structured text format\n",
        "# #     text = \"\\n\".join([\", \".join([f\"{col}: {row[col]}\" for col in df.columns]) for _, row in df.iterrows()])\n",
        "# #     return text\n",
        "\n",
        "# # Function to read files based on extension\n",
        "# def read_file(file_path):\n",
        "#     extension = os.path.splitext(file_path)[1].lower()\n",
        "#     if extension == \".txt\":\n",
        "#         with open(file_path, \"r\") as file:\n",
        "#             return file.read()\n",
        "#     elif extension == \".pdf\":\n",
        "#         return read_pdf(file_path)\n",
        "#     elif extension == \".docx\":\n",
        "#         return read_docx(file_path)\n",
        "#     elif extension == \".csv\":\n",
        "#         return read_csv(file_path)\n",
        "#     # elif extension == \".xlsx\":\n",
        "#     #     return read_xlsx(file_path)\n",
        "#     else:\n",
        "#         raise ValueError(f\"Unsupported file type: {extension}\")\n",
        "\n",
        "# # Process multiple files\n",
        "# file_paths = [\"placements.txt\",\"final_pdf.pdf\",\"administration.pdf\"]\n",
        "# RAW_KNOWLEDGE_BASE = []\n",
        "# for file_path in file_paths:\n",
        "#     file_content = read_file(file_path)\n",
        "#     RAW_KNOWLEDGE_BASE.append(LangchainDocument(page_content=file_content))\n"
      ],
      "metadata": {
        "id": "AGtgJ3W3_Ge8"
      },
      "execution_count": null,
      "outputs": []
    },
    {
      "cell_type": "code",
      "execution_count": null,
      "metadata": {
        "id": "BZE3SDhKg7-J",
        "colab": {
          "base_uri": "https://localhost:8080/"
        },
        "outputId": "2f97e9fe-a087-4a29-b259-169d6b5cf119"
      },
      "outputs": [
        {
          "output_type": "stream",
          "name": "stdout",
          "text": [
            "Successfully loaded: /content/drive/MyDrive/RAG_inputs/Uniqueness.txt\n",
            "Successfully loaded: /content/drive/MyDrive/RAG_inputs/kmit_courses.txt\n",
            "Successfully loaded: /content/drive/MyDrive/RAG_inputs/placements.txt\n",
            "Successfully loaded: /content/drive/MyDrive/RAG_inputs/Iqac.txt\n",
            "Successfully loaded: /content/drive/MyDrive/RAG_inputs/Research.txt\n",
            "Successfully loaded: /content/drive/MyDrive/RAG_inputs/Infrastructure.txt\n",
            "Successfully loaded: /content/drive/MyDrive/RAG_inputs/Initiatives.txt\n",
            "Successfully loaded: /content/drive/MyDrive/RAG_inputs/fees.txt\n",
            "Successfully loaded: /content/drive/MyDrive/RAG_inputs/eamcet.txt\n",
            "Successfully loaded: /content/drive/MyDrive/RAG_inputs/Examinations.txt\n",
            "Successfully loaded: /content/drive/MyDrive/RAG_inputs/ecet.txt\n",
            "Successfully loaded: /content/drive/MyDrive/RAG_inputs/academic_regulations.txt\n",
            "Successfully loaded: /content/drive/MyDrive/RAG_inputs/Departments.txt\n",
            "Successfully loaded: /content/drive/MyDrive/RAG_inputs/Admission.txt\n",
            "Successfully loaded: /content/drive/MyDrive/RAG_inputs/Aboutus.txt\n",
            "Successfully loaded: /content/drive/MyDrive/RAG_inputs/Academics.txt\n",
            "Successfully loaded: /content/drive/MyDrive/RAG_inputs/Administration.txt\n"
          ]
        }
      ],
      "source": [
        "\n",
        "import os\n",
        "from PyPDF2 import PdfReader\n",
        "from docx import Document\n",
        "import pandas as pd\n",
        "from langchain.schema import Document as LangchainDocument  # Import LangchainDocument\n",
        "\n",
        "# PDF Reader\n",
        "def read_pdf(file_path):\n",
        "    try:\n",
        "        reader = PdfReader(file_path)\n",
        "        text = \"\"\n",
        "        for page in reader.pages:\n",
        "            text += page.extract_text()\n",
        "        print(f\"Successfully loaded: {file_path}\")\n",
        "        return text\n",
        "    except Exception as e:\n",
        "        print(f\"Failed to load PDF {file_path}: {str(e)}\")\n",
        "        return None\n",
        "\n",
        "# DOCX Reader\n",
        "def read_docx(file_path):\n",
        "    try:\n",
        "        doc = Document(file_path)\n",
        "        text = \"\\n\".join([para.text for para in doc.paragraphs])\n",
        "        print(f\"Successfully loaded: {file_path}\")\n",
        "        return text\n",
        "    except Exception as e:\n",
        "        print(f\"Failed to load DOCX {file_path}: {str(e)}\")\n",
        "        return None\n",
        "\n",
        "# CSV Reader\n",
        "def read_csv(file_path):\n",
        "    try:\n",
        "        df = pd.read_csv(file_path)\n",
        "        text = df.to_string()\n",
        "        print(f\"Successfully loaded: {file_path}\")\n",
        "        return text\n",
        "    except Exception as e:\n",
        "        print(f\"Failed to load CSV {file_path}: {str(e)}\")\n",
        "        return None\n",
        "\n",
        "# XLSX Reader\n",
        "def read_xlsx(file_path):\n",
        "    try:\n",
        "        df = pd.read_excel(file_path)\n",
        "        text = df.to_string()\n",
        "        print(f\"Successfully loaded: {file_path}\")\n",
        "        return text\n",
        "    except Exception as e:\n",
        "        print(f\"Failed to load XLSX {file_path}: {str(e)}\")\n",
        "        return None\n",
        "\n",
        "# Generic File Reader\n",
        "def read_file(file_path):\n",
        "    extension = os.path.splitext(file_path)[1].lower()\n",
        "    if extension == \".txt\":\n",
        "        try:\n",
        "            with open(file_path, \"r\") as file:\n",
        "                print(f\"Successfully loaded: {file_path}\")\n",
        "                return file.read()\n",
        "        except Exception as e:\n",
        "            print(f\"Failed to load TXT {file_path}: {str(e)}\")\n",
        "            return None\n",
        "    elif extension == \".pdf\":\n",
        "        return read_pdf(file_path)\n",
        "    elif extension == \".docx\":\n",
        "        return read_docx(file_path)\n",
        "    elif extension == \".csv\":\n",
        "        return read_csv(file_path)\n",
        "    elif extension == \".xlsx\":\n",
        "        return read_xlsx(file_path)\n",
        "    else:\n",
        "        print(f\"Unsupported file type: {file_path}\")\n",
        "        return None\n",
        "\n",
        "# Process all files in a folder and append to RAW_KNOWLEDGE_BASE as LangchainDocuments\n",
        "def process_folder(folder_path):\n",
        "    RAW_KNOWLEDGE_BASE = []\n",
        "    for file_name in os.listdir(folder_path):\n",
        "        file_path = os.path.join(folder_path, file_name)\n",
        "        if os.path.isfile(file_path):\n",
        "            file_content = read_file(file_path)\n",
        "            if file_content:\n",
        "                # Append as LangchainDocument\n",
        "                RAW_KNOWLEDGE_BASE.append(LangchainDocument(page_content=file_content))\n",
        "    return RAW_KNOWLEDGE_BASE\n",
        "\n",
        "# Example usage\n",
        "folder_path = \"/content/drive/MyDrive/RAG_inputs\"  # Replace with your folder path\n",
        "RAW_KNOWLEDGE_BASE = process_folder(folder_path)"
      ]
    },
    {
      "cell_type": "code",
      "source": [],
      "metadata": {
        "id": "wesVuCqHytkZ"
      },
      "execution_count": null,
      "outputs": []
    },
    {
      "cell_type": "code",
      "execution_count": null,
      "metadata": {
        "id": "A7ZmlZXqkWYf",
        "colab": {
          "base_uri": "https://localhost:8080/",
          "height": 484,
          "referenced_widgets": [
            "18c11efbc7494085ad738f2304548e49",
            "fe9447197d6440a680f1596ffc9cd5f7",
            "4960eae71e884318bfb83772b5a49859",
            "28f9644623cb4ea88199770cef8baeac",
            "7f3d5078db834bbc9a28f2517fcb48af",
            "e5304b0bdbc8461584edf890fd097dc6",
            "d7eb119fb6dd4e94a328bd473759f2f2",
            "3cf60f052def4993b6f0d288cf307c38",
            "5a23e25faf1744adad43e3d7d263cd23",
            "8a0f5aa1d882460faac3cde4cc14f505",
            "76e6d4a836d84a62be57e7a1da110345"
          ]
        },
        "outputId": "b2a31188-fc9a-4e4d-f3a8-b6a3ac338abe"
      },
      "outputs": [
        {
          "output_type": "display_data",
          "data": {
            "text/plain": [
              "  0%|          | 0/396 [00:00<?, ?it/s]"
            ],
            "application/vnd.jupyter.widget-view+json": {
              "version_major": 2,
              "version_minor": 0,
              "model_id": "18c11efbc7494085ad738f2304548e49"
            }
          },
          "metadata": {}
        },
        {
          "output_type": "display_data",
          "data": {
            "text/plain": [
              "<Figure size 640x480 with 1 Axes>"
            ],
            "image/png": "[encoded data removed]"
          },
          "metadata": {}
        }
      ],
      "source": [
        "\n",
        "from langchain.text_splitter import RecursiveCharacterTextSplitter\n",
        "from transformers import AutoTokenizer\n",
        "\n",
        "MARKDOWN_SEPARATORS = [\n",
        "    \"\\n#{1,6}\",\n",
        "    \"```\\n\",\n",
        "    \"\\n\\\\*\\\\*\\\\*+\\n\",\n",
        "    \"\\n---+\\n\",\n",
        "    \"\\n__+\\n\",\n",
        "    \"\\n\\n\",\n",
        "    \"\\n\",\n",
        "    \" \",\n",
        "    \"\"\n",
        "]\n",
        "\n",
        "text_splitter = RecursiveCharacterTextSplitter(\n",
        "    chunk_size=1000,\n",
        "    chunk_overlap=100,\n",
        "    add_start_index=True,\n",
        "    strip_whitespace=True,\n",
        "    separators=MARKDOWN_SEPARATORS,\n",
        ")\n",
        "\n",
        "docs_processed = []\n",
        "for doc in RAW_KNOWLEDGE_BASE:\n",
        "    docs_processed += text_splitter.split_documents([doc])\n",
        "\n",
        "tokenizer = AutoTokenizer.from_pretrained(\"thenlper/gte-small\")\n",
        "lengths = [len(tokenizer.encode(doc.page_content)) for doc in tqdm(docs_processed)]\n",
        "\n",
        "fig = pd.Series(lengths).hist()\n",
        "fig.set_title(\"Histogram of Document Lengths\")\n",
        "plt.title(\"Distribution\")\n",
        "plt.show()\n"
      ]
    },
    {
      "cell_type": "code",
      "execution_count": null,
      "metadata": {
        "id": "Sihc8JcgksAR",
        "colab": {
          "base_uri": "https://localhost:8080/"
        },
        "outputId": "a97ffaca-a164-4c3e-82aa-bae1a63140fd"
      },
      "outputs": [
        {
          "output_type": "stream",
          "name": "stdout",
          "text": [
            "210\n",
            "[Document(metadata={'start_index': 0}, page_content='Tessellator-\\nTessellator is KMIT’s learning management system. It is customized version of Moodle, an open source learning management system provided by Google. We at KMIT have customized it as per our needs and have been using it on multiple networks. It provides an option of 2 different modules. After each programming class, students are required to take a quiz which is a collection of multiple choice questions. Once they submit the quiz, they are presented with a form where they have guidelines to write code( program Eg: JAVA, C) pertaining to the class held. There are usually three programs given to the students as a part of the test. If the student is a slow learner, he/ she might be able to work on a single program. The fast learners may go to the 3rd program. Google’s platform Moodle by itself doesn’t have the code compilation technique but we at KMIT have extended its capabilities to suffice our needs and have added code compilation techniques for JAVA, C and few other programming languages.\\n\\nLearning Management System-\\nSanjaya-\\nSanjaya is an Android App built to give parents all the details that they need to about their ward’s progress at KMIT. From Sanjaya App parents can not only check the attendance, time-table, performance, events and results, but also look at the class room. The live-class room feature in Sanjaya App has been a big hit among parents. From Sanjaya one can also check as to how their ward has been rated for discipline. Parents also receive notifications from KMIT, in cases like class cancellations. Parents can also contact KMIT directly using the ‘Contact KMIT’ feature.\\n\\nTeleUniv-\\nTeleUniv is a Technological Leveraging platform which is engaging and immersive at its best. It replaces the traditional method of teaching and revolutionizes the digital space by providing a unique interactive mode of delivery. \\n\\nVision :\\nTo reduce the productivity and employ ability skills gap in India through a dynamic and Interactive digital process. \\n\\nMission :\\nTo innovate and create differentiating factors, for an all-inclusive learning experience with live Cloud based Labs providing instant assessment.'), Document(metadata={'start_index': -1}, page_content='Mission :\\nTo innovate and create differentiating factors, for an all-inclusive learning experience with live Cloud based Labs providing instant assessment. \\n\\nThe Seeding :\\nThe seeds of curiosity took a path less trodden and creativity took form of a focused idea -- A Digital University. Solutions to the problems of brick and mortar method of teaching were long awaited. A conscious journey towards seeking information and making efforts to improve methods of imparting knowledge began. Bloated ideas were in abundance. However the need of the hour was depth in content and practical work several rounds of brain storming translated into a verified, realistic and useful platform, The TeleUniv.\\n\\nKMIT TV-\\n500 Hours of recorded content ranging from academic to industry related courses is available for usage on KMITTV. Students can listen to any session any number of times till he/she is confident about that concept. It has Videos of live class room lectures. One can learn from subject matter experts. What more, it is Free and has Unlimited access!'), Document(metadata={'start_index': 0}, page_content='The intake details for the B.Tech program, covering both management and convenor seats, are distributed across two specializations. For the B.Tech in Computer Science & Engineering (CSE), the total intake is 540 students, with 162 seats allocated for management/NRI candidates and 378 seats reserved for convenor admissions. In the case of the B.Tech in Computer Science & Engineering (Artificial Intelligence & Machine Learning) (CSM), the total intake is 300 students, with 90 seats assigned to the management/NRI quota and 210 seats allotted for convenor admissions. This outlines the distribution of seats between the management/NRI and')]\n"
          ]
        }
      ],
      "source": [
        "from typing import Optional, List\n",
        "from langchain.text_splitter import RecursiveCharacterTextSplitter\n",
        "from transformers import AutoTokenizer\n",
        "\n",
        "EMBEDDING_MODEL_NAME = \"thenlper/gte-small\"\n",
        "\n",
        "def split_documents(\n",
        "        chunk_size: int,\n",
        "        knowledge_base: list[LangchainDocument],\n",
        "        tokenizer_name: Optional[str] = EMBEDDING_MODEL_NAME,\n",
        ") -> List[LangchainDocument]:\n",
        "    text_splitter = RecursiveCharacterTextSplitter.from_huggingface_tokenizer(\n",
        "        AutoTokenizer.from_pretrained(tokenizer_name),\n",
        "        chunk_size=chunk_size,\n",
        "        chunk_overlap=int(chunk_size / 10),\n",
        "        add_start_index=True,\n",
        "        strip_whitespace=True,\n",
        "        separators=MARKDOWN_SEPARATORS,\n",
        "    )\n",
        "    docs_processed = []\n",
        "    for doc in knowledge_base:\n",
        "        docs_processed += text_splitter.split_documents([doc])\n",
        "\n",
        "    unique_texts = {}\n",
        "    docs_processed_unique = []\n",
        "    for doc in docs_processed:\n",
        "        if doc.page_content not in unique_texts:\n",
        "            unique_texts[doc.page_content] = True\n",
        "            docs_processed_unique.append(doc)\n",
        "    return docs_processed_unique\n",
        "\n",
        "docs_processed = split_documents(512, RAW_KNOWLEDGE_BASE, tokenizer_name=EMBEDDING_MODEL_NAME)\n",
        "print(len(docs_processed))\n",
        "print(docs_processed[0:3])\n"
      ]
    },
    {
      "cell_type": "code",
      "execution_count": null,
      "metadata": {
        "id": "qSwvjt-RnDX8",
        "colab": {
          "base_uri": "https://localhost:8080/"
        },
        "outputId": "b696f775-c0fd-4d71-968b-3d6c2ccaf218"
      },
      "outputs": [
        {
          "output_type": "stream",
          "name": "stdout",
          "text": [
            "Requirement already satisfied: sentence-transformers in /usr/local/lib/python3.10/dist-packages (3.2.0)\n",
            "Requirement already satisfied: faiss-cpu in /usr/local/lib/python3.10/dist-packages (1.9.0)\n",
            "Requirement already satisfied: transformers<5.0.0,>=4.41.0 in /usr/local/lib/python3.10/dist-packages (from sentence-transformers) (4.44.2)\n",
            "Requirement already satisfied: tqdm in /usr/local/lib/python3.10/dist-packages (from sentence-transformers) (4.66.5)\n",
            "Requirement already satisfied: torch>=1.11.0 in /usr/local/lib/python3.10/dist-packages (from sentence-transformers) (2.4.1+cu121)\n",
            "Requirement already satisfied: scikit-learn in /usr/local/lib/python3.10/dist-packages (from sentence-transformers) (1.5.2)\n",
            "Requirement already satisfied: scipy in /usr/local/lib/python3.10/dist-packages (from sentence-transformers) (1.13.1)\n",
            "Requirement already satisfied: huggingface-hub>=0.20.0 in /usr/local/lib/python3.10/dist-packages (from sentence-transformers) (0.24.7)\n",
            "Requirement already satisfied: Pillow in /usr/local/lib/python3.10/dist-packages (from sentence-transformers) (10.4.0)\n",
            "Requirement already satisfied: numpy<3.0,>=1.25.0 in /usr/local/lib/python3.10/dist-packages (from faiss-cpu) (1.26.4)\n",
            "Requirement already satisfied: packaging in /usr/local/lib/python3.10/dist-packages (from faiss-cpu) (24.1)\n",
            "Requirement already satisfied: filelock in /usr/local/lib/python3.10/dist-packages (from huggingface-hub>=0.20.0->sentence-transformers) (3.16.1)\n",
            "Requirement already satisfied: fsspec>=2023.5.0 in /usr/local/lib/python3.10/dist-packages (from huggingface-hub>=0.20.0->sentence-transformers) (2024.6.1)\n",
            "Requirement already satisfied: pyyaml>=5.1 in /usr/local/lib/python3.10/dist-packages (from huggingface-hub>=0.20.0->sentence-transformers) (6.0.2)\n",
            "Requirement already satisfied: requests in /usr/local/lib/python3.10/dist-packages (from huggingface-hub>=0.20.0->sentence-transformers) (2.32.3)\n",
            "Requirement already satisfied: typing-extensions>=3.7.4.3 in /usr/local/lib/python3.10/dist-packages (from huggingface-hub>=0.20.0->sentence-transformers) (4.12.2)\n",
            "Requirement already satisfied: sympy in /usr/local/lib/python3.10/dist-packages (from torch>=1.11.0->sentence-transformers) (1.13.3)\n",
            "Requirement already satisfied: networkx in /usr/local/lib/python3.10/dist-packages (from torch>=1.11.0->sentence-transformers) (3.4)\n",
            "Requirement already satisfied: jinja2 in /usr/local/lib/python3.10/dist-packages (from torch>=1.11.0->sentence-transformers) (3.1.4)\n",
            "Requirement already satisfied: regex!=2019.12.17 in /usr/local/lib/python3.10/dist-packages (from transformers<5.0.0,>=4.41.0->sentence-transformers) (2024.9.11)\n",
            "Requirement already satisfied: safetensors>=0.4.1 in /usr/local/lib/python3.10/dist-packages (from transformers<5.0.0,>=4.41.0->sentence-transformers) (0.4.5)\n",
            "Requirement already satisfied: tokenizers<0.20,>=0.19 in /usr/local/lib/python3.10/dist-packages (from transformers<5.0.0,>=4.41.0->sentence-transformers) (0.19.1)\n",
            "Requirement already satisfied: joblib>=1.2.0 in /usr/local/lib/python3.10/dist-packages (from scikit-learn->sentence-transformers) (1.4.2)\n",
            "Requirement already satisfied: threadpoolctl>=3.1.0 in /usr/local/lib/python3.10/dist-packages (from scikit-learn->sentence-transformers) (3.5.0)\n",
            "Requirement already satisfied: MarkupSafe>=2.0 in /usr/local/lib/python3.10/dist-packages (from jinja2->torch>=1.11.0->sentence-transformers) (3.0.1)\n",
            "Requirement already satisfied: charset-normalizer<4,>=2 in /usr/local/lib/python3.10/dist-packages (from requests->huggingface-hub>=0.20.0->sentence-transformers) (3.4.0)\n",
            "Requirement already satisfied: idna<4,>=2.5 in /usr/local/lib/python3.10/dist-packages (from requests->huggingface-hub>=0.20.0->sentence-transformers) (3.10)\n",
            "Requirement already satisfied: urllib3<3,>=1.21.1 in /usr/local/lib/python3.10/dist-packages (from requests->huggingface-hub>=0.20.0->sentence-transformers) (2.2.3)\n",
            "Requirement already satisfied: certifi>=2017.4.17 in /usr/local/lib/python3.10/dist-packages (from requests->huggingface-hub>=0.20.0->sentence-transformers) (2024.8.30)\n",
            "Requirement already satisfied: mpmath<1.4,>=1.1.0 in /usr/local/lib/python3.10/dist-packages (from sympy->torch>=1.11.0->sentence-transformers) (1.3.0)\n"
          ]
        }
      ],
      "source": [
        "# !pip install transformers\n",
        "!pip install sentence-transformers faiss-cpu\n"
      ]
    },
    {
      "cell_type": "code",
      "execution_count": null,
      "metadata": {
        "id": "bykjcg9VnGVh",
        "colab": {
          "base_uri": "https://localhost:8080/"
        },
        "outputId": "f73cb075-7406-4dc8-d8e6-72da360e5853"
      },
      "outputs": [
        {
          "output_type": "stream",
          "name": "stdout",
          "text": [
            "True\n"
          ]
        }
      ],
      "source": [
        "from langchain.vectorstores import FAISS\n",
        "from langchain_community.embeddings import HuggingFaceEmbeddings\n",
        "from langchain_community.vectorstores.utils import DistanceStrategy\n",
        "import torch\n",
        "\n",
        "print(torch.cuda.is_available())\n",
        "\n",
        "embedding_model = HuggingFaceEmbeddings(\n",
        "    model_name=EMBEDDING_MODEL_NAME,\n",
        "    multi_process=True,\n",
        "    model_kwargs={\"device\": \"cuda\"},\n",
        "    encode_kwargs={\"normalize_embeddings\": True},\n",
        ")\n",
        "\n",
        "KNOWLEDGE_VECTOR_DATABASE = FAISS.from_documents(\n",
        "    docs_processed,\n",
        "    embedding_model,\n",
        "    distance_strategy=DistanceStrategy.COSINE,\n",
        ")\n"
      ]
    },
    {
      "cell_type": "code",
      "execution_count": null,
      "metadata": {
        "id": "VgqfWoG9rMRP"
      },
      "outputs": [],
      "source": []
    },
    {
      "cell_type": "code",
      "execution_count": null,
      "metadata": {
        "id": "Cl8A-jeQsYRK"
      },
      "outputs": [],
      "source": []
    },
    {
      "cell_type": "code",
      "execution_count": null,
      "metadata": {
        "id": "8AXoH6ypsa0i"
      },
      "outputs": [],
      "source": []
    },
    {
      "cell_type": "code",
      "execution_count": null,
      "metadata": {
        "id": "VuNbdEYVtbDD"
      },
      "outputs": [],
      "source": []
    },
    {
      "cell_type": "code",
      "execution_count": null,
      "metadata": {
        "id": "WwqURfLxxMYz"
      },
      "outputs": [],
      "source": []
    },
    {
      "cell_type": "code",
      "execution_count": null,
      "metadata": {
        "id": "hbd3-iOXNyZv",
        "colab": {
          "base_uri": "https://localhost:8080/",
          "height": 104,
          "referenced_widgets": [
            "549b6c458bf64a56a7e2e1c0c1a46f57",
            "596d917245ae4f548fc4d4cea3522189",
            "59b5fddb86e94cf58108555a6c02bbf3",
            "f1d9f973ded846ff9051a219fb8acbc4",
            "717b4e39b05844a7865a59c9e0e09165",
            "30af7ebdff2d47218d100b6a8578c43c",
            "d36a644085384d818ed794f5dd791cb3",
            "6242c408be414e2e8cede927a96830f4",
            "22856d5daad44847b8b2ce946074a4e1",
            "e799ad5bbf4045568dc5e593576249c3",
            "7bf2924bafd34450baecb27cf6aa05b0"
          ]
        },
        "outputId": "f3c90d10-37ab-4116-e7f6-251d56ee2628"
      },
      "outputs": [
        {
          "output_type": "stream",
          "name": "stderr",
          "text": [
            "WARNING:transformers_modules.microsoft.Phi-3-mini-128k-instruct.a90b62ae09941edff87a90ced39ba5807e6b2ade.modeling_phi3:`flash-attention` package not found, consider installing for better performance: No module named 'flash_attn'.\n",
            "WARNING:transformers_modules.microsoft.Phi-3-mini-128k-instruct.a90b62ae09941edff87a90ced39ba5807e6b2ade.modeling_phi3:Current `flash-attention` does not support `window_size`. Either upgrade or use `attn_implementation='eager'`.\n"
          ]
        },
        {
          "output_type": "display_data",
          "data": {
            "text/plain": [
              "Loading checkpoint shards:   0%|          | 0/2 [00:00<?, ?it/s]"
            ],
            "application/vnd.jupyter.widget-view+json": {
              "version_major": 2,
              "version_minor": 0,
              "model_id": "549b6c458bf64a56a7e2e1c0c1a46f57"
            }
          },
          "metadata": {}
        }
      ],
      "source": [
        "import torch\n",
        "from transformers import AutoModelForCausalLM, AutoTokenizer, pipeline\n",
        "\n",
        "torch.random.manual_seed(0)\n",
        "\n",
        "model = AutoModelForCausalLM.from_pretrained(\n",
        "    \"microsoft/Phi-3-mini-128k-instruct\",\n",
        "    device_map=\"cuda\",\n",
        "    torch_dtype=\"auto\",\n",
        "    trust_remote_code=True,\n",
        ")\n",
        "tokenizer = AutoTokenizer.from_pretrained(\"microsoft/Phi-3-mini-128k-instruct\")\n",
        "\n",
        "pipe = pipeline(\n",
        "    \"text-generation\",\n",
        "    model=model,\n",
        "    tokenizer=tokenizer,\n",
        ")\n",
        "\n",
        "generation_args = {\n",
        "    \"max_new_tokens\": 500,\n",
        "    \"return_full_text\": False,\n",
        "    \"temperature\": 0.4,\n",
        "    \"do_sample\": False,\n",
        "}\n"
      ]
    },
    {
      "cell_type": "code",
      "execution_count": null,
      "metadata": {
        "id": "mkxXaAYkN3fY",
        "colab": {
          "base_uri": "https://localhost:8080/"
        },
        "outputId": "de79cba3-4dce-4357-a5b4-7f867c990da5"
      },
      "outputs": [
        {
          "output_type": "stream",
          "name": "stdout",
          "text": [
            "<|system|>\n",
            "You are a specialized assistant (chatbot for the KMIT website) designed to handle queries and provide information exclusively related to the KMIT website.\n",
            "        Your first step is to search the context provided to you to extract relevant answers. If the context does not provide enough information, respond by saying that the information is not available on the KMIT website.\n",
            "\n",
            "        If the user asks a question that is outside the scope of the KMIT website(provided context), respond with 'I am sorry, I cannot find the answer as I am a chatbot for the KMIT website, and I can only answer questions based on the provided context.'\n",
            "\n",
            "        Your responses should be strictly based on the provided KMIT website context. Ensure your tone is friendly, polite, and conversational, maintaining a professional demeanor while answering questions related to KMIT.<|end|>\n",
            "<|user|>\n",
            "Context:\n",
            "{context}\n",
            "---\n",
            "Now here is the question you need to answer.\n",
            "Question: {question}<|end|>\n",
            "<|assistant|>\n",
            "\n"
          ]
        }
      ],
      "source": [
        "\n",
        "\n",
        "prompt_chat = [\n",
        "    {\n",
        "        \"role\": \"system\",\n",
        "        \"content\": \"\"\"You are a specialized assistant (chatbot for the KMIT website) designed to handle queries and provide information exclusively related to the KMIT website.\n",
        "        Your first step is to search the context provided to you to extract relevant answers. If the context does not provide enough information, respond by saying that the information is not available on the KMIT website.\n",
        "\n",
        "        If the user asks a question that is outside the scope of the KMIT website(provided context), respond with 'I am sorry, I cannot find the answer as I am a chatbot for the KMIT website, and I can only answer questions based on the provided context.'\n",
        "\n",
        "        Your responses should be strictly based on the provided KMIT website context. Ensure your tone is friendly, polite, and conversational, maintaining a professional demeanor while answering questions related to KMIT.\"\"\"\n",
        "    },\n",
        "    {\n",
        "        \"role\": \"user\",\n",
        "        \"content\": \"\"\"Context:\n",
        "{context}\n",
        "---\n",
        "Now here is the question you need to answer.\n",
        "Question: {question}\"\"\"\n",
        "    }\n",
        "]\n",
        "\n",
        "RAG_PROMPT_TEMPLATE = tokenizer.apply_chat_template(\n",
        "    prompt_chat, tokenize=False, add_generation_prompt=True,\n",
        ")\n",
        "print(RAG_PROMPT_TEMPLATE)\n",
        "\n"
      ]
    },
    {
      "cell_type": "code",
      "execution_count": null,
      "metadata": {
        "id": "AcrfpRRfN7FA",
        "colab": {
          "base_uri": "https://localhost:8080/"
        },
        "outputId": "8c15cc56-5f9b-478f-c13f-490752639636"
      },
      "outputs": [
        {
          "output_type": "stream",
          "name": "stdout",
          "text": [
            "YOUR QUESTION:\n",
            " What is the opening and closing rank of males for ST category in IT branch? \n",
            "\n",
            "MICROSOFT 128K ANSWER: \n",
            "  The opening and closing rank of males for the ST category in the IT branch is 38620 to 58107.\n"
          ]
        }
      ],
      "source": [
        "u_query = \"What is the opening and closing rank of males for ST category in IT branch?\"\n",
        "# ret_text = KNOWLEDGE_VECTOR_DATABASE.similarity_search(query=u_query,k=3)\n",
        "retrieved_docs = KNOWLEDGE_VECTOR_DATABASE.similarity_search(query=u_query,k=3)\n",
        "\n",
        "context = retrieved_docs[0].page_content\n",
        "final_prompt = RAG_PROMPT_TEMPLATE.format(\n",
        "    question= u_query, context = context\n",
        ")\n",
        "\n",
        "output = pipe(final_prompt, **generation_args)\n",
        "print(\"YOUR QUESTION:\\n\",u_query,\"\\n\")\n",
        "print(\"MICROSOFT 128K ANSWER: \\n\",output[0]['generated_text'])"
      ]
    },
    {
      "cell_type": "code",
      "source": [
        "u_query = \"List all closing ranks of males for BC D category?\"\n",
        "# ret_text = KNOWLEDGE_VECTOR_DATABASE.similarity_search(query=u_query,k=3)\n",
        "retrieved_docs = KNOWLEDGE_VECTOR_DATABASE.similarity_search(query=u_query,k=3)\n",
        "\n",
        "context = retrieved_docs[0].page_content\n",
        "final_prompt = RAG_PROMPT_TEMPLATE.format(\n",
        "    question= u_query, context = context\n",
        ")\n",
        "\n",
        "output = pipe(final_prompt, **generation_args)\n",
        "print(\"YOUR QUESTION:\\n\",u_query,\"\\n\")\n",
        "print(\"MICROSOFT 128K ANSWER: \\n\",output[0]['generated_text'])"
      ],
      "metadata": {
        "id": "wQ5B5AsbuZpA",
        "outputId": "f29ac253-1ebb-48d5-a38c-60c4494b2f1e",
        "colab": {
          "base_uri": "https://localhost:8080/"
        }
      },
      "execution_count": null,
      "outputs": [
        {
          "output_type": "stream",
          "name": "stdout",
          "text": [
            "YOUR QUESTION:\n",
            " List all closing ranks of males for BC D category? \n",
            "\n",
            "MICROSOFT 128K ANSWER: \n",
            "  The closing ranks of males for the BC D category are as follows: 10188, 10188, 10188, 10188, 10188, 10188, 10188, 10188, 10188, 10188, 10188, 10188, 10188, 10188, 10188, 10188, 10188, 10188, 10188, 10188, 10188, 10188, 10188, 10188, 10188, 10188, 10188, 10188, 10188, 10188, 10188, 10188, 10188, 10188, 10188, 10188, 10188, 10188, 10188, 10188, 10188, 10188, 10188, 10188, 10188, 10188, 10188, 10188, 10188, 10188, 10188, 10188, 10188, 10188, 10188, 10188, 10188, 10188, 10188, 10188, 10188, 10188, 10188, 10188, 10188, 10188, 10188, 10188, 10188, 10\n"
          ]
        },
        {
          "output_type": "stream",
          "name": "stderr",
          "text": [
            "ERROR:root:Internal Python error in the inspect module.\n",
            "Below is the traceback from this internal error.\n",
            "\n",
            "\n",
            "KeyboardInterrupt\n",
            "\n"
          ]
        }
      ]
    },
    {
      "cell_type": "code",
      "source": [
        "u_query = \"What is the opening and closing rank of females for ST category in CSD branch?\"\n",
        "# ret_text = KNOWLEDGE_VECTOR_DATABASE.similarity_search(query=u_query,k=3)\n",
        "retrieved_docs = KNOWLEDGE_VECTOR_DATABASE.similarity_search(query=u_query,k=3)\n",
        "\n",
        "context = retrieved_docs[0].page_content\n",
        "final_prompt = RAG_PROMPT_TEMPLATE.format(\n",
        "    question= u_query, context = context\n",
        ")\n",
        "\n",
        "output = pipe(final_prompt, **generation_args)\n",
        "print(\"YOUR QUESTION:\\n\",u_query,\"\\n\")\n",
        "print(\"MICROSOFT 128K ANSWER: \\n\",output[0]['generated_text'])"
      ],
      "metadata": {
        "id": "IXV24jxFu7MY",
        "outputId": "b82ff52c-8879-4aaa-d8a4-277ed6d8cd2d",
        "colab": {
          "base_uri": "https://localhost:8080/"
        }
      },
      "execution_count": null,
      "outputs": [
        {
          "output_type": "stream",
          "name": "stdout",
          "text": [
            "YOUR QUESTION:\n",
            " What is the opening and closing rank of females for ST category in CSD branch? \n",
            "\n",
            "MICROSOFT 128K ANSWER: \n",
            "  I apologize, but the information you're asking for is not available on the KMIT website.\n"
          ]
        }
      ]
    },
    {
      "cell_type": "code",
      "source": [
        "u_query = \"What is the first and last rank of males for BC-E category in IT branch?\"\n",
        "# ret_text = KNOWLEDGE_VECTOR_DATABASE.similarity_search(query=u_query,k=3)\n",
        "retrieved_docs = KNOWLEDGE_VECTOR_DATABASE.similarity_search(query=u_query,k=3)\n",
        "\n",
        "context = retrieved_docs[0].page_content\n",
        "final_prompt = RAG_PROMPT_TEMPLATE.format(\n",
        "    question= u_query, context = context\n",
        ")\n",
        "\n",
        "output = pipe(final_prompt, **generation_args)\n",
        "print(\"YOUR QUESTION:\\n\",u_query,\"\\n\")\n",
        "print(\"MICROSOFT 128K ANSWER: \\n\",output[0]['generated_text'])"
      ],
      "metadata": {
        "id": "x6M16Lx-wYbH",
        "outputId": "bdf1c097-d348-4a96-df74-dafdc358eedb",
        "colab": {
          "base_uri": "https://localhost:8080/"
        }
      },
      "execution_count": null,
      "outputs": [
        {
          "output_type": "stream",
          "name": "stdout",
          "text": [
            "YOUR QUESTION:\n",
            " What is the first and last rank of males for BC-E category in IT branch? \n",
            "\n",
            "MICROSOFT 128K ANSWER: \n",
            "  I am sorry, I cannot find the answer as I am a chatbot for the KMIT website, and I can only answer questions based on the provided context.\n"
          ]
        }
      ]
    },
    {
      "cell_type": "code",
      "source": [
        "u_query = \"What are the acheivements of KMIT in 2020 year?\"\n",
        "# ret_text = KNOWLEDGE_VECTOR_DATABASE.similarity_search(query=u_query,k=3)\n",
        "retrieved_docs = KNOWLEDGE_VECTOR_DATABASE.similarity_search(query=u_query,k=3)\n",
        "\n",
        "context = retrieved_docs[0].page_content\n",
        "final_prompt = RAG_PROMPT_TEMPLATE.format(\n",
        "    question= u_query, context = context\n",
        ")\n",
        "\n",
        "output = pipe(final_prompt, **generation_args)\n",
        "print(\"YOUR QUESTION:\\n\",u_query,\"\\n\")\n",
        "print(\"MICROSOFT 128K ANSWER: \\n\",output[0]['generated_text'])"
      ],
      "metadata": {
        "id": "PZIYI9Jmwrs0",
        "outputId": "acc85c5a-2532-4440-b949-33f7b21abd41",
        "colab": {
          "base_uri": "https://localhost:8080/"
        }
      },
      "execution_count": null,
      "outputs": [
        {
          "output_type": "stream",
          "name": "stdout",
          "text": [
            "YOUR QUESTION:\n",
            " What are the acheivements of KMIT in 2020 year? \n",
            "\n",
            "MICROSOFT 128K ANSWER: \n",
            "  I apologize, but the information you're asking for is not available on the KMIT website. The context provided focuses on the 21st Century Skills Workshop, which is a training program for students. It does not provide details about the achievements of KMIT in the year 2020.\n"
          ]
        }
      ]
    },
    {
      "cell_type": "code",
      "execution_count": null,
      "metadata": {
        "id": "xj1fDuckOPMp"
      },
      "outputs": [],
      "source": [
        "# !pip install pyngrok\n",
        "# !pip install flask_cors\n",
        "# from pyngrok import ngrok\n",
        "\n",
        "# # Replace 'YOUR_NGROK_AUTH_TOKEN' with the actual token you got from the ngrok dashboard\n",
        "# NGROK_AUTH_TOKEN = '2j5uCfuOTEBgec3LQw0w0uEsDOG_5jgwLbGTEdmBPzarF11gh'\n",
        "# ngrok.set_auth_token(NGROK_AUTH_TOKEN)\n",
        "\n",
        "# # Start ngrok tunnel\n",
        "# url = ngrok.connect(5000)\n",
        "# print('Public URL:', url)\n"
      ]
    },
    {
      "cell_type": "code",
      "execution_count": null,
      "metadata": {
        "id": "eBZBcS1nWy55"
      },
      "outputs": [],
      "source": [
        "# from flask import Flask, request, jsonify\n",
        "# from pyngrok import ngrok\n",
        "# from flask_cors import CORS\n",
        "\n",
        "# app = Flask(__name__)\n",
        "# CORS(app, resources={r\"/*\": {\"origins\": \"http://localhost:3000\"}})\n",
        "\n",
        "# @app.route('/process_question', methods=['POST'])\n",
        "# def process_question():\n",
        "#     data = request.get_json()\n",
        "#     question = data.get('question')\n",
        "\n",
        "#     # Replace the following lines with your own logic\n",
        "#     u_query = question\n",
        "#     retrieved_docs = KNOWLEDGE_VECTOR_DATABASE.similarity_search(query=u_query, k=3)\n",
        "#     context = retrieved_docs[0].page_content\n",
        "#     final_prompt = RAG_PROMPT_TEMPLATE.format(question=u_query, context=context)\n",
        "#     output = pipe(final_prompt, **generation_args)\n",
        "\n",
        "#     response = {\n",
        "#         'answer': output[0]['generated_text']\n",
        "#     }\n",
        "\n",
        "#     return jsonify(response)\n",
        "\n",
        "# if __name__ == '__main__':\n",
        "#     # Start ngrok tunnel\n",
        "#     url = ngrok.connect(5000)\n",
        "#     print('Public URL:', url)\n",
        "\n",
        "#     app.run()\n"
      ]
    }
  ],
  "metadata": {
    "accelerator": "GPU",
    "colab": {
      "gpuType": "T4",
      "provenance": []
    },
    "kernelspec": {
      "display_name": "Python 3",
      "name": "python3"
    },
    "language_info": {
      "name": "python"
    },
    "widgets": {
      "application/vnd.jupyter.widget-state+json": {
        "18c11efbc7494085ad738f2304548e49": {
          "model_module": "@jupyter-widgets/controls",
          "model_name": "HBoxModel",
          "model_module_version": "1.5.0",
          "state": {
            "_dom_classes": [],
            "_model_module": "@jupyter-widgets/controls",
            "_model_module_version": "1.5.0",
            "_model_name": "HBoxModel",
            "_view_count": null,
            "_view_module": "@jupyter-widgets/controls",
            "_view_module_version": "1.5.0",
            "_view_name": "HBoxView",
            "box_style": "",
            "children": [
              "IPY_MODEL_fe9447197d6440a680f1596ffc9cd5f7",
              "IPY_MODEL_4960eae71e884318bfb83772b5a49859",
              "IPY_MODEL_28f9644623cb4ea88199770cef8baeac"
            ],
            "layout": "IPY_MODEL_7f3d5078db834bbc9a28f2517fcb48af"
          }
        },
        "fe9447197d6440a680f1596ffc9cd5f7": {
          "model_module": "@jupyter-widgets/controls",
          "model_name": "HTMLModel",
          "model_module_version": "1.5.0",
          "state": {
            "_dom_classes": [],
            "_model_module": "@jupyter-widgets/controls",
            "_model_module_version": "1.5.0",
            "_model_name": "HTMLModel",
            "_view_count": null,
            "_view_module": "@jupyter-widgets/controls",
            "_view_module_version": "1.5.0",
            "_view_name": "HTMLView",
            "description": "",
            "description_tooltip": null,
            "layout": "IPY_MODEL_e5304b0bdbc8461584edf890fd097dc6",
            "placeholder": "​",
            "style": "IPY_MODEL_d7eb119fb6dd4e94a328bd473759f2f2",
            "value": "100%"
          }
        },
        "4960eae71e884318bfb83772b5a49859": {
          "model_module": "@jupyter-widgets/controls",
          "model_name": "FloatProgressModel",
          "model_module_version": "1.5.0",
          "state": {
            "_dom_classes": [],
            "_model_module": "@jupyter-widgets/controls",
            "_model_module_version": "1.5.0",
            "_model_name": "FloatProgressModel",
            "_view_count": null,
            "_view_module": "@jupyter-widgets/controls",
            "_view_module_version": "1.5.0",
            "_view_name": "ProgressView",
            "bar_style": "success",
            "description": "",
            "description_tooltip": null,
            "layout": "IPY_MODEL_3cf60f052def4993b6f0d288cf307c38",
            "max": 396,
            "min": 0,
            "orientation": "horizontal",
            "style": "IPY_MODEL_5a23e25faf1744adad43e3d7d263cd23",
            "value": 396
          }
        },
        "28f9644623cb4ea88199770cef8baeac": {
          "model_module": "@jupyter-widgets/controls",
          "model_name": "HTMLModel",
          "model_module_version": "1.5.0",
          "state": {
            "_dom_classes": [],
            "_model_module": "@jupyter-widgets/controls",
            "_model_module_version": "1.5.0",
            "_model_name": "HTMLModel",
            "_view_count": null,
            "_view_module": "@jupyter-widgets/controls",
            "_view_module_version": "1.5.0",
            "_view_name": "HTMLView",
            "description": "",
            "description_tooltip": null,
            "layout": "IPY_MODEL_8a0f5aa1d882460faac3cde4cc14f505",
            "placeholder": "​",
            "style": "IPY_MODEL_76e6d4a836d84a62be57e7a1da110345",
            "value": " 396/396 [00:00&lt;00:00, 1395.81it/s]"
          }
        },
        "7f3d5078db834bbc9a28f2517fcb48af": {
          "model_module": "@jupyter-widgets/base",
          "model_name": "LayoutModel",
          "model_module_version": "1.2.0",
          "state": {
            "_model_module": "@jupyter-widgets/base",
            "_model_module_version": "1.2.0",
            "_model_name": "LayoutModel",
            "_view_count": null,
            "_view_module": "@jupyter-widgets/base",
            "_view_module_version": "1.2.0",
            "_view_name": "LayoutView",
            "align_content": null,
            "align_items": null,
            "align_self": null,
            "border": null,
            "bottom": null,
            "display": null,
            "flex": null,
            "flex_flow": null,
            "grid_area": null,
            "grid_auto_columns": null,
            "grid_auto_flow": null,
            "grid_auto_rows": null,
            "grid_column": null,
            "grid_gap": null,
            "grid_row": null,
            "grid_template_areas": null,
            "grid_template_columns": null,
            "grid_template_rows": null,
            "height": null,
            "justify_content": null,
            "justify_items": null,
            "left": null,
            "margin": null,
            "max_height": null,
            "max_width": null,
            "min_height": null,
            "min_width": null,
            "object_fit": null,
            "object_position": null,
            "order": null,
            "overflow": null,
            "overflow_x": null,
            "overflow_y": null,
            "padding": null,
            "right": null,
            "top": null,
            "visibility": null,
            "width": null
          }
        },
        "e5304b0bdbc8461584edf890fd097dc6": {
          "model_module": "@jupyter-widgets/base",
          "model_name": "LayoutModel",
          "model_module_version": "1.2.0",
          "state": {
            "_model_module": "@jupyter-widgets/base",
            "_model_module_version": "1.2.0",
            "_model_name": "LayoutModel",
            "_view_count": null,
            "_view_module": "@jupyter-widgets/base",
            "_view_module_version": "1.2.0",
            "_view_name": "LayoutView",
            "align_content": null,
            "align_items": null,
            "align_self": null,
            "border": null,
            "bottom": null,
            "display": null,
            "flex": null,
            "flex_flow": null,
            "grid_area": null,
            "grid_auto_columns": null,
            "grid_auto_flow": null,
            "grid_auto_rows": null,
            "grid_column": null,
            "grid_gap": null,
            "grid_row": null,
            "grid_template_areas": null,
            "grid_template_columns": null,
            "grid_template_rows": null,
            "height": null,
            "justify_content": null,
            "justify_items": null,
            "left": null,
            "margin": null,
            "max_height": null,
            "max_width": null,
            "min_height": null,
            "min_width": null,
            "object_fit": null,
            "object_position": null,
            "order": null,
            "overflow": null,
            "overflow_x": null,
            "overflow_y": null,
            "padding": null,
            "right": null,
            "top": null,
            "visibility": null,
            "width": null
          }
        },
        "d7eb119fb6dd4e94a328bd473759f2f2": {
          "model_module": "@jupyter-widgets/controls",
          "model_name": "DescriptionStyleModel",
          "model_module_version": "1.5.0",
          "state": {
            "_model_module": "@jupyter-widgets/controls",
            "_model_module_version": "1.5.0",
            "_model_name": "DescriptionStyleModel",
            "_view_count": null,
            "_view_module": "@jupyter-widgets/base",
            "_view_module_version": "1.2.0",
            "_view_name": "StyleView",
            "description_width": ""
          }
        },
        "3cf60f052def4993b6f0d288cf307c38": {
          "model_module": "@jupyter-widgets/base",
          "model_name": "LayoutModel",
          "model_module_version": "1.2.0",
          "state": {
            "_model_module": "@jupyter-widgets/base",
            "_model_module_version": "1.2.0",
            "_model_name": "LayoutModel",
            "_view_count": null,
            "_view_module": "@jupyter-widgets/base",
            "_view_module_version": "1.2.0",
            "_view_name": "LayoutView",
            "align_content": null,
            "align_items": null,
            "align_self": null,
            "border": null,
            "bottom": null,
            "display": null,
            "flex": null,
            "flex_flow": null,
            "grid_area": null,
            "grid_auto_columns": null,
            "grid_auto_flow": null,
            "grid_auto_rows": null,
            "grid_column": null,
            "grid_gap": null,
            "grid_row": null,
            "grid_template_areas": null,
            "grid_template_columns": null,
            "grid_template_rows": null,
            "height": null,
            "justify_content": null,
            "justify_items": null,
            "left": null,
            "margin": null,
            "max_height": null,
            "max_width": null,
            "min_height": null,
            "min_width": null,
            "object_fit": null,
            "object_position": null,
            "order": null,
            "overflow": null,
            "overflow_x": null,
            "overflow_y": null,
            "padding": null,
            "right": null,
            "top": null,
            "visibility": null,
            "width": null
          }
        },
        "5a23e25faf1744adad43e3d7d263cd23": {
          "model_module": "@jupyter-widgets/controls",
          "model_name": "ProgressStyleModel",
          "model_module_version": "1.5.0",
          "state": {
            "_model_module": "@jupyter-widgets/controls",
            "_model_module_version": "1.5.0",
            "_model_name": "ProgressStyleModel",
            "_view_count": null,
            "_view_module": "@jupyter-widgets/base",
            "_view_module_version": "1.2.0",
            "_view_name": "StyleView",
            "bar_color": null,
            "description_width": ""
          }
        },
        "8a0f5aa1d882460faac3cde4cc14f505": {
          "model_module": "@jupyter-widgets/base",
          "model_name": "LayoutModel",
          "model_module_version": "1.2.0",
          "state": {
            "_model_module": "@jupyter-widgets/base",
            "_model_module_version": "1.2.0",
            "_model_name": "LayoutModel",
            "_view_count": null,
            "_view_module": "@jupyter-widgets/base",
            "_view_module_version": "1.2.0",
            "_view_name": "LayoutView",
            "align_content": null,
            "align_items": null,
            "align_self": null,
            "border": null,
            "bottom": null,
            "display": null,
            "flex": null,
            "flex_flow": null,
            "grid_area": null,
            "grid_auto_columns": null,
            "grid_auto_flow": null,
            "grid_auto_rows": null,
            "grid_column": null,
            "grid_gap": null,
            "grid_row": null,
            "grid_template_areas": null,
            "grid_template_columns": null,
            "grid_template_rows": null,
            "height": null,
            "justify_content": null,
            "justify_items": null,
            "left": null,
            "margin": null,
            "max_height": null,
            "max_width": null,
            "min_height": null,
            "min_width": null,
            "object_fit": null,
            "object_position": null,
            "order": null,
            "overflow": null,
            "overflow_x": null,
            "overflow_y": null,
            "padding": null,
            "right": null,
            "top": null,
            "visibility": null,
            "width": null
          }
        },
        "76e6d4a836d84a62be57e7a1da110345": {
          "model_module": "@jupyter-widgets/controls",
          "model_name": "DescriptionStyleModel",
          "model_module_version": "1.5.0",
          "state": {
            "_model_module": "@jupyter-widgets/controls",
            "_model_module_version": "1.5.0",
            "_model_name": "DescriptionStyleModel",
            "_view_count": null,
            "_view_module": "@jupyter-widgets/base",
            "_view_module_version": "1.2.0",
            "_view_name": "StyleView",
            "description_width": ""
          }
        },
        "549b6c458bf64a56a7e2e1c0c1a46f57": {
          "model_module": "@jupyter-widgets/controls",
          "model_name": "HBoxModel",
          "model_module_version": "1.5.0",
          "state": {
            "_dom_classes": [],
            "_model_module": "@jupyter-widgets/controls",
            "_model_module_version": "1.5.0",
            "_model_name": "HBoxModel",
            "_view_count": null,
            "_view_module": "@jupyter-widgets/controls",
            "_view_module_version": "1.5.0",
            "_view_name": "HBoxView",
            "box_style": "",
            "children": [
              "IPY_MODEL_596d917245ae4f548fc4d4cea3522189",
              "IPY_MODEL_59b5fddb86e94cf58108555a6c02bbf3",
              "IPY_MODEL_f1d9f973ded846ff9051a219fb8acbc4"
            ],
            "layout": "IPY_MODEL_717b4e39b05844a7865a59c9e0e09165"
          }
        },
        "596d917245ae4f548fc4d4cea3522189": {
          "model_module": "@jupyter-widgets/controls",
          "model_name": "HTMLModel",
          "model_module_version": "1.5.0",
          "state": {
            "_dom_classes": [],
            "_model_module": "@jupyter-widgets/controls",
            "_model_module_version": "1.5.0",
            "_model_name": "HTMLModel",
            "_view_count": null,
            "_view_module": "@jupyter-widgets/controls",
            "_view_module_version": "1.5.0",
            "_view_name": "HTMLView",
            "description": "",
            "description_tooltip": null,
            "layout": "IPY_MODEL_30af7ebdff2d47218d100b6a8578c43c",
            "placeholder": "​",
            "style": "IPY_MODEL_d36a644085384d818ed794f5dd791cb3",
            "value": "Loading checkpoint shards: 100%"
          }
        },
        "59b5fddb86e94cf58108555a6c02bbf3": {
          "model_module": "@jupyter-widgets/controls",
          "model_name": "FloatProgressModel",
          "model_module_version": "1.5.0",
          "state": {
            "_dom_classes": [],
            "_model_module": "@jupyter-widgets/controls",
            "_model_module_version": "1.5.0",
            "_model_name": "FloatProgressModel",
            "_view_count": null,
            "_view_module": "@jupyter-widgets/controls",
            "_view_module_version": "1.5.0",
            "_view_name": "ProgressView",
            "bar_style": "success",
            "description": "",
            "description_tooltip": null,
            "layout": "IPY_MODEL_6242c408be414e2e8cede927a96830f4",
            "max": 2,
            "min": 0,
            "orientation": "horizontal",
            "style": "IPY_MODEL_22856d5daad44847b8b2ce946074a4e1",
            "value": 2
          }
        },
        "f1d9f973ded846ff9051a219fb8acbc4": {
          "model_module": "@jupyter-widgets/controls",
          "model_name": "HTMLModel",
          "model_module_version": "1.5.0",
          "state": {
            "_dom_classes": [],
            "_model_module": "@jupyter-widgets/controls",
            "_model_module_version": "1.5.0",
            "_model_name": "HTMLModel",
            "_view_count": null,
            "_view_module": "@jupyter-widgets/controls",
            "_view_module_version": "1.5.0",
            "_view_name": "HTMLView",
            "description": "",
            "description_tooltip": null,
            "layout": "IPY_MODEL_e799ad5bbf4045568dc5e593576249c3",
            "placeholder": "​",
            "style": "IPY_MODEL_7bf2924bafd34450baecb27cf6aa05b0",
            "value": " 2/2 [00:39&lt;00:00, 18.57s/it]"
          }
        },
        "717b4e39b05844a7865a59c9e0e09165": {
          "model_module": "@jupyter-widgets/base",
          "model_name": "LayoutModel",
          "model_module_version": "1.2.0",
          "state": {
            "_model_module": "@jupyter-widgets/base",
            "_model_module_version": "1.2.0",
            "_model_name": "LayoutModel",
            "_view_count": null,
            "_view_module": "@jupyter-widgets/base",
            "_view_module_version": "1.2.0",
            "_view_name": "LayoutView",
            "align_content": null,
            "align_items": null,
            "align_self": null,
            "border": null,
            "bottom": null,
            "display": null,
            "flex": null,
            "flex_flow": null,
            "grid_area": null,
            "grid_auto_columns": null,
            "grid_auto_flow": null,
            "grid_auto_rows": null,
            "grid_column": null,
            "grid_gap": null,
            "grid_row": null,
            "grid_template_areas": null,
            "grid_template_columns": null,
            "grid_template_rows": null,
            "height": null,
            "justify_content": null,
            "justify_items": null,
            "left": null,
            "margin": null,
            "max_height": null,
            "max_width": null,
            "min_height": null,
            "min_width": null,
            "object_fit": null,
            "object_position": null,
            "order": null,
            "overflow": null,
            "overflow_x": null,
            "overflow_y": null,
            "padding": null,
            "right": null,
            "top": null,
            "visibility": null,
            "width": null
          }
        },
        "30af7ebdff2d47218d100b6a8578c43c": {
          "model_module": "@jupyter-widgets/base",
          "model_name": "LayoutModel",
          "model_module_version": "1.2.0",
          "state": {
            "_model_module": "@jupyter-widgets/base",
            "_model_module_version": "1.2.0",
            "_model_name": "LayoutModel",
            "_view_count": null,
            "_view_module": "@jupyter-widgets/base",
            "_view_module_version": "1.2.0",
            "_view_name": "LayoutView",
            "align_content": null,
            "align_items": null,
            "align_self": null,
            "border": null,
            "bottom": null,
            "display": null,
            "flex": null,
            "flex_flow": null,
            "grid_area": null,
            "grid_auto_columns": null,
            "grid_auto_flow": null,
            "grid_auto_rows": null,
            "grid_column": null,
            "grid_gap": null,
            "grid_row": null,
            "grid_template_areas": null,
            "grid_template_columns": null,
            "grid_template_rows": null,
            "height": null,
            "justify_content": null,
            "justify_items": null,
            "left": null,
            "margin": null,
            "max_height": null,
            "max_width": null,
            "min_height": null,
            "min_width": null,
            "object_fit": null,
            "object_position": null,
            "order": null,
            "overflow": null,
            "overflow_x": null,
            "overflow_y": null,
            "padding": null,
            "right": null,
            "top": null,
            "visibility": null,
            "width": null
          }
        },
        "d36a644085384d818ed794f5dd791cb3": {
          "model_module": "@jupyter-widgets/controls",
          "model_name": "DescriptionStyleModel",
          "model_module_version": "1.5.0",
          "state": {
            "_model_module": "@jupyter-widgets/controls",
            "_model_module_version": "1.5.0",
            "_model_name": "DescriptionStyleModel",
            "_view_count": null,
            "_view_module": "@jupyter-widgets/base",
            "_view_module_version": "1.2.0",
            "_view_name": "StyleView",
            "description_width": ""
          }
        },
        "6242c408be414e2e8cede927a96830f4": {
          "model_module": "@jupyter-widgets/base",
          "model_name": "LayoutModel",
          "model_module_version": "1.2.0",
          "state": {
            "_model_module": "@jupyter-widgets/base",
            "_model_module_version": "1.2.0",
            "_model_name": "LayoutModel",
            "_view_count": null,
            "_view_module": "@jupyter-widgets/base",
            "_view_module_version": "1.2.0",
            "_view_name": "LayoutView",
            "align_content": null,
            "align_items": null,
            "align_self": null,
            "border": null,
            "bottom": null,
            "display": null,
            "flex": null,
            "flex_flow": null,
            "grid_area": null,
            "grid_auto_columns": null,
            "grid_auto_flow": null,
            "grid_auto_rows": null,
            "grid_column": null,
            "grid_gap": null,
            "grid_row": null,
            "grid_template_areas": null,
            "grid_template_columns": null,
            "grid_template_rows": null,
            "height": null,
            "justify_content": null,
            "justify_items": null,
            "left": null,
            "margin": null,
            "max_height": null,
            "max_width": null,
            "min_height": null,
            "min_width": null,
            "object_fit": null,
            "object_position": null,
            "order": null,
            "overflow": null,
            "overflow_x": null,
            "overflow_y": null,
            "padding": null,
            "right": null,
            "top": null,
            "visibility": null,
            "width": null
          }
        },
        "22856d5daad44847b8b2ce946074a4e1": {
          "model_module": "@jupyter-widgets/controls",
          "model_name": "ProgressStyleModel",
          "model_module_version": "1.5.0",
          "state": {
            "_model_module": "@jupyter-widgets/controls",
            "_model_module_version": "1.5.0",
            "_model_name": "ProgressStyleModel",
            "_view_count": null,
            "_view_module": "@jupyter-widgets/base",
            "_view_module_version": "1.2.0",
            "_view_name": "StyleView",
            "bar_color": null,
            "description_width": ""
          }
        },
        "e799ad5bbf4045568dc5e593576249c3": {
          "model_module": "@jupyter-widgets/base",
          "model_name": "LayoutModel",
          "model_module_version": "1.2.0",
          "state": {
            "_model_module": "@jupyter-widgets/base",
            "_model_module_version": "1.2.0",
            "_model_name": "LayoutModel",
            "_view_count": null,
            "_view_module": "@jupyter-widgets/base",
            "_view_module_version": "1.2.0",
            "_view_name": "LayoutView",
            "align_content": null,
            "align_items": null,
            "align_self": null,
            "border": null,
            "bottom": null,
            "display": null,
            "flex": null,
            "flex_flow": null,
            "grid_area": null,
            "grid_auto_columns": null,
            "grid_auto_flow": null,
            "grid_auto_rows": null,
            "grid_column": null,
            "grid_gap": null,
            "grid_row": null,
            "grid_template_areas": null,
            "grid_template_columns": null,
            "grid_template_rows": null,
            "height": null,
            "justify_content": null,
            "justify_items": null,
            "left": null,
            "margin": null,
            "max_height": null,
            "max_width": null,
            "min_height": null,
            "min_width": null,
            "object_fit": null,
            "object_position": null,
            "order": null,
            "overflow": null,
            "overflow_x": null,
            "overflow_y": null,
            "padding": null,
            "right": null,
            "top": null,
            "visibility": null,
            "width": null
          }
        },
        "7bf2924bafd34450baecb27cf6aa05b0": {
          "model_module": "@jupyter-widgets/controls",
          "model_name": "DescriptionStyleModel",
          "model_module_version": "1.5.0",
          "state": {
            "_model_module": "@jupyter-widgets/controls",
            "_model_module_version": "1.5.0",
            "_model_name": "DescriptionStyleModel",
            "_view_count": null,
            "_view_module": "@jupyter-widgets/base",
            "_view_module_version": "1.2.0",
            "_view_name": "StyleView",
            "description_width": ""
          }
        }
      }
    }
  },
  "nbformat": 4,
  "nbformat_minor": 0
}